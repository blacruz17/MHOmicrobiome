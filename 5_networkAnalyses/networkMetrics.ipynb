{
 "cells": [
  {
   "cell_type": "code",
   "execution_count": null,
   "metadata": {
    "executionInfo": {
     "elapsed": 10,
     "status": "ok",
     "timestamp": 1739957736725,
     "user": {
      "displayName": "Blanca Lacruz",
      "userId": "12514814890100099567"
     },
     "user_tz": -60
    },
    "id": "OYVCRYIfunXa"
   },
   "outputs": [],
   "source": [
    "import numpy as np\n",
    "import matplotlib.pyplot as plt\n",
    "import pandas as pd\n",
    "import networkx as nx\n",
    "\n",
    "from networkx.readwrite import json_graph\n",
    "import json\n",
    "\n",
    "import pandas\n",
    "\n",
    "import copy\n",
    "import random\n",
    "import csv\n",
    "\n",
    "import seaborn as sns\n",
    "\n",
    "from collections import Counter"
   ]
  },
  {
   "cell_type": "markdown",
   "metadata": {
    "id": "c37iTn-0DBQ3"
   },
   "source": [
    "# Import and Generate Networks"
   ]
  },
  {
   "cell_type": "code",
   "execution_count": null,
   "metadata": {
    "executionInfo": {
     "elapsed": 2,
     "status": "ok",
     "timestamp": 1739957738359,
     "user": {
      "displayName": "Blanca Lacruz",
      "userId": "12514814890100099567"
     },
     "user_tz": -60
    },
    "id": "SpBLTNQ96hBj"
   },
   "outputs": [],
   "source": [
    "# MHO\n",
    "adjmat_MHO  = pd.read_csv(\"../results/mho_edges.csv\")\n",
    "adjmat_MHO.rename(columns=lambda x: x.replace('.', '|'), inplace=True)\n",
    "\n",
    "# MHNO\n",
    "adjmat_MHNO  = pd.read_csv(\"../results/mhno_edges.csv\")\n",
    "adjmat_MHNO.rename(columns=lambda x: x.replace('.', '|'), inplace=True)\n",
    "\n",
    "# MUO\n",
    "adjmat_MUO  = pd.read_csv(\"../results/muo_edges.csv\")\n",
    "adjmat_MUO.rename(columns=lambda x: x.replace('.', '|'), inplace=True)\n",
    "\n",
    "# MUNO\n",
    "adjmat_MUNO  = pd.read_csv(\"../results/muno_edges.csv\")\n",
    "adjmat_MUNO.rename(columns=lambda x: x.replace('.', '|'), inplace=True)"
   ]
  },
  {
   "cell_type": "code",
   "execution_count": null,
   "metadata": {
    "executionInfo": {
     "elapsed": 223,
     "status": "ok",
     "timestamp": 1739957738583,
     "user": {
      "displayName": "Blanca Lacruz",
      "userId": "12514814890100099567"
     },
     "user_tz": -60
    },
    "id": "r-RHD0jFjlAr"
   },
   "outputs": [],
   "source": [
    "# add metadata:\n",
    "# MHO\n",
    "metadata_MHO  = pd.read_csv(\"../results/mho_metadata.csv\")\n",
    "metadata_MHO.rename(columns=lambda x: x.replace('.', '|'), inplace=True)\n",
    "\n",
    "# MHNO\n",
    "metadata_MHNO  = pd.read_csv(\"../results/mhno_metadata.csv\")\n",
    "metadata_MHNO.rename(columns=lambda x: x.replace('.', '|'), inplace=True)\n",
    "\n",
    "# MUO\n",
    "metadata_MUO  = pd.read_csv(\"../results/muo_metadata.csv\")\n",
    "metadata_MUO.rename(columns=lambda x: x.replace('.', '|'), inplace=True)\n",
    "\n",
    "# MUNO\n",
    "metadata_MUNO  = pd.read_csv(\"../results/muno_metadata.csv\")\n",
    "metadata_MUNO.rename(columns=lambda x: x.replace('.', '|'), inplace=True)"
   ]
  },
  {
   "cell_type": "markdown",
   "metadata": {
    "id": "pdRC3GJWjnov"
   },
   "source": [
    "Add relative abundances as attribute:"
   ]
  },
  {
   "cell_type": "code",
   "execution_count": null,
   "metadata": {
    "executionInfo": {
     "elapsed": 6,
     "status": "ok",
     "timestamp": 1739957738590,
     "user": {
      "displayName": "Blanca Lacruz",
      "userId": "12514814890100099567"
     },
     "user_tz": -60
    },
    "id": "AiU67h9gjoOx"
   },
   "outputs": [],
   "source": [
    "def add_abundance(net, metadata):\n",
    "  abundance_dict = pd.Series(metadata.Abundance.values, index=metadata.Label).to_dict()\n",
    "  nx.set_node_attributes(net, abundance_dict, 'Abundance')"
   ]
  },
  {
   "cell_type": "code",
   "execution_count": 151,
   "metadata": {
    "executionInfo": {
     "elapsed": 3,
     "status": "ok",
     "timestamp": 1739957738597,
     "user": {
      "displayName": "Blanca Lacruz",
      "userId": "12514814890100099567"
     },
     "user_tz": -60
    },
    "id": "f_r5NcxhvT-C"
   },
   "outputs": [],
   "source": [
    "def create_net(adjmat):\n",
    "  # Create an empty graph\n",
    "  tmpG= nx.Graph()\n",
    "\n",
    "  # Iterate over the rows and columns of the DataFrame to add edges with weights\n",
    "  for row in range(len(adjmat)):\n",
    "    # print(adjmat.iloc[row, 0])\n",
    "    source = adjmat.iloc[row, 0]\n",
    "    target = adjmat.iloc[row, 1]\n",
    "    weight = adjmat.iloc[row, 2]\n",
    "    # Add nodes and edge to the graph\n",
    "    tmpG.add_edge(source, target, weight=weight)\n",
    "\n",
    "    # Skip diagonal and zero-weight edges\n",
    "    if source != target and weight != 0:\n",
    "        tmpG.add_edge(source, target,\n",
    "                      weight=weight,\n",
    "                      invWeight = 1 - weight)\n",
    "  return(tmpG)"
   ]
  },
  {
   "cell_type": "code",
   "execution_count": 152,
   "metadata": {
    "executionInfo": {
     "elapsed": 267,
     "status": "ok",
     "timestamp": 1739957738865,
     "user": {
      "displayName": "Blanca Lacruz",
      "userId": "12514814890100099567"
     },
     "user_tz": -60
    },
    "id": "OBRS6V8U8rg4"
   },
   "outputs": [],
   "source": [
    "MHO = create_net(adjmat_MHO)\n",
    "MHNO = create_net(adjmat_MHNO)\n",
    "MUO = create_net(adjmat_MUO)\n",
    "MUNO = create_net(adjmat_MUNO)"
   ]
  },
  {
   "cell_type": "code",
   "execution_count": 153,
   "metadata": {
    "executionInfo": {
     "elapsed": 17,
     "status": "ok",
     "timestamp": 1739957738900,
     "user": {
      "displayName": "Blanca Lacruz",
      "userId": "12514814890100099567"
     },
     "user_tz": -60
    },
    "id": "0sHnfUAtjrn_"
   },
   "outputs": [],
   "source": [
    "add_abundance(MHO, metadata_MHO)\n",
    "add_abundance(MHNO, metadata_MHNO)\n",
    "add_abundance(MUO, metadata_MUO)\n",
    "add_abundance(MUNO, metadata_MUNO)"
   ]
  },
  {
   "cell_type": "code",
   "execution_count": 154,
   "metadata": {
    "colab": {
     "base_uri": "https://localhost:8080/"
    },
    "executionInfo": {
     "elapsed": 4,
     "status": "ok",
     "timestamp": 1739957738954,
     "user": {
      "displayName": "Blanca Lacruz",
      "userId": "12514814890100099567"
     },
     "user_tz": -60
    },
    "id": "h2t-2YBw8TRj",
    "outputId": "d58c17e6-0482-462f-a5c2-96e8d6724843"
   },
   "outputs": [
    {
     "name": "stdout",
     "output_type": "stream",
     "text": [
      "289 800\n",
      "340 976\n",
      "326 683\n",
      "334 760\n"
     ]
    }
   ],
   "source": [
    "for net in (MHO, MHNO, MUO, MUNO):\n",
    "  print(net.order(), net.size())"
   ]
  },
  {
   "cell_type": "code",
   "execution_count": 157,
   "metadata": {
    "colab": {
     "base_uri": "https://localhost:8080/"
    },
    "executionInfo": {
     "elapsed": 19,
     "status": "ok",
     "timestamp": 1739957740770,
     "user": {
      "displayName": "Blanca Lacruz",
      "userId": "12514814890100099567"
     },
     "user_tz": -60
    },
    "id": "MlRfBw70LTAc",
    "outputId": "3fd099f2-a7ad-4dcb-b111-d7699b00e4af"
   },
   "outputs": [
    {
     "name": "stdout",
     "output_type": "stream",
     "text": [
      "Connected graph: True\n",
      "Connected graph: True\n",
      "Connected graph: False\n",
      "Connected graph: False\n"
     ]
    }
   ],
   "source": [
    "for net in (MHO, MHNO, MUO, MUNO):\n",
    "  print('Connected graph:', nx.is_connected(net))"
   ]
  },
  {
   "cell_type": "code",
   "execution_count": 158,
   "metadata": {
    "colab": {
     "base_uri": "https://localhost:8080/"
    },
    "executionInfo": {
     "elapsed": 108,
     "status": "ok",
     "timestamp": 1739957740879,
     "user": {
      "displayName": "Blanca Lacruz",
      "userId": "12514814890100099567"
     },
     "user_tz": -60
    },
    "id": "PzlVkQ-cwmMb",
    "outputId": "845df14c-bc0e-473a-ce48-eed52afbd63a"
   },
   "outputs": [
    {
     "name": "stdout",
     "output_type": "stream",
     "text": [
      "Connected graph: True\n",
      "Connected graph: True\n",
      "Connected graph: True\n",
      "Connected graph: True\n"
     ]
    }
   ],
   "source": [
    "def get_connected_graph(net):\n",
    "  # Get a list of connected components\n",
    "  components = list(nx.connected_components(net))\n",
    "  # Find the largest connected component\n",
    "  largest_component = max(components, key=len)\n",
    "  # Create a new graph containing only the largest component\n",
    "  net_largest = net.subgraph(largest_component)\n",
    "  print('Connected graph:', nx.is_connected(net_largest))\n",
    "  return(net_largest)\n",
    "\n",
    "\n",
    "MHO = get_connected_graph(MHO)\n",
    "MHNO = get_connected_graph(MHNO)\n",
    "MUO = get_connected_graph(MUO)\n",
    "MUNO = get_connected_graph(MUNO)"
   ]
  },
  {
   "cell_type": "code",
   "execution_count": 159,
   "metadata": {
    "colab": {
     "base_uri": "https://localhost:8080/"
    },
    "executionInfo": {
     "elapsed": 5,
     "status": "ok",
     "timestamp": 1739957740890,
     "user": {
      "displayName": "Blanca Lacruz",
      "userId": "12514814890100099567"
     },
     "user_tz": -60
    },
    "id": "1EZ5j1Vnte81",
    "outputId": "07881605-8201-495c-be26-4ad6f9dd2787"
   },
   "outputs": [
    {
     "name": "stdout",
     "output_type": "stream",
     "text": [
      "######### MHO #########\n",
      "% positive edge: 92.875\n",
      "% negative edges: 7.125\n",
      "######### MHNO #########\n",
      "% positive edge: 98.56557377049181\n",
      "% negative edges: 1.4344262295081966\n",
      "######### MUO #########\n",
      "% positive edge: 98.08541973490428\n",
      "% negative edges: 1.914580265095729\n",
      "######### MUNO #########\n",
      "% positive edge: 98.81422924901186\n",
      "% negative edges: 1.1857707509881423\n"
     ]
    }
   ],
   "source": [
    "def get_pos_neg_edges(net):\n",
    "  pos_edges_net, neg_edges_net = [], []\n",
    "  for edge in net.edges(data = True):\n",
    "    if edge[-1]['weight'] > 0:\n",
    "      pos_edges_net.append(edge[-1]['weight'])\n",
    "    else:\n",
    "      neg_edges_net.append(edge[-1]['weight'])\n",
    "  print('% positive edge: {0}\\n% negative edges: {1}'.\n",
    "      format(100 * len(pos_edges_net)/net.size(),\n",
    "             100 * len(neg_edges_net)/net.size()))\n",
    "\n",
    "print(\"######### MHO #########\")\n",
    "get_pos_neg_edges(MHO)\n",
    "print(\"######### MHNO #########\")\n",
    "get_pos_neg_edges(MHNO)\n",
    "print(\"######### MUO #########\")\n",
    "get_pos_neg_edges(MUO)\n",
    "print(\"######### MUNO #########\")\n",
    "get_pos_neg_edges(MUNO)"
   ]
  },
  {
   "cell_type": "code",
   "execution_count": 160,
   "metadata": {
    "colab": {
     "base_uri": "https://localhost:8080/"
    },
    "executionInfo": {
     "elapsed": 320,
     "status": "ok",
     "timestamp": 1739957741209,
     "user": {
      "displayName": "Blanca Lacruz",
      "userId": "12514814890100099567"
     },
     "user_tz": -60
    },
    "id": "d4ZVuNGx0Emg",
    "outputId": "b946f77f-313e-45fb-bad3-f7f5cef3af64"
   },
   "outputs": [
    {
     "name": "stdout",
     "output_type": "stream",
     "text": [
      "MHO #############\n",
      "Number of nodes: 289 \n",
      "Number of edges: 800\n",
      "Graph density: 0.019223375624759707\n",
      "MHNO ############\n",
      "Number of nodes: 340 \n",
      "Number of edges: 976\n",
      "Graph density: 0.01693562380704494\n",
      "MUO #############\n",
      "Number of nodes: 319 \n",
      "Number of edges: 679\n",
      "Graph density: 0.013386960036276888\n",
      "MUNO ############\n",
      "Number of nodes: 332 \n",
      "Number of edges: 759\n",
      "Graph density: 0.013813562406726604\n"
     ]
    }
   ],
   "source": [
    "def get_basic_properties(net):\n",
    "  print('Number of nodes: {0} \\nNumber of edges: {1}'\n",
    "  .format(net.order(), net.size()))\n",
    "  print('Graph density: {0}'.format(nx.density(net)))\n",
    "\n",
    "print(\"MHO #############\"); get_basic_properties(MHO)\n",
    "print(\"MHNO ############\"); get_basic_properties(MHNO)\n",
    "print(\"MUO #############\"); get_basic_properties(MUO)\n",
    "print(\"MUNO ############\"); get_basic_properties(MUNO)"
   ]
  },
  {
   "cell_type": "code",
   "execution_count": 161,
   "metadata": {
    "executionInfo": {
     "elapsed": 3,
     "status": "ok",
     "timestamp": 1739957741210,
     "user": {
      "displayName": "Blanca Lacruz",
      "userId": "12514814890100099567"
     },
     "user_tz": -60
    },
    "id": "uBUWVj7iMwtE"
   },
   "outputs": [],
   "source": [
    "MHO_names = list(MHO.nodes())\n",
    "MHNO_names = list(MHNO.nodes())\n",
    "MUO_names = list(MUO.nodes())\n",
    "MUNO_names = list(MUNO.nodes())"
   ]
  },
  {
   "cell_type": "code",
   "execution_count": 166,
   "metadata": {
    "colab": {
     "base_uri": "https://localhost:8080/"
    },
    "executionInfo": {
     "elapsed": 98,
     "status": "ok",
     "timestamp": 1739957745244,
     "user": {
      "displayName": "Blanca Lacruz",
      "userId": "12514814890100099567"
     },
     "user_tz": -60
    },
    "id": "nx_afbQozlQD",
    "outputId": "d3cbd42e-ecb0-4013-c999-1b860730d398"
   },
   "outputs": [
    {
     "name": "stdout",
     "output_type": "stream",
     "text": [
      "5.536332179930795 5.741176470588235 4.25705329153605 4.572289156626506\n"
     ]
    }
   ],
   "source": [
    "meandegMHO = sum([i[1] for i in MHO.degree])/MHO.order()\n",
    "meandegMHNO = sum([i[1] for i in MHNO.degree])/MHNO.order()\n",
    "meandegMUO = sum([i[1] for i in MUO.degree])/MUO.order()\n",
    "meandegMUNO = sum([i[1] for i in MUNO.degree])/MUNO.order()\n",
    "print(meandegMHO, meandegMHNO, meandegMUO, meandegMUNO)"
   ]
  },
  {
   "cell_type": "markdown",
   "metadata": {
    "id": "D8pke2KzC5K4"
   },
   "source": [
    "# Node Betweenness Values"
   ]
  },
  {
   "cell_type": "code",
   "execution_count": 169,
   "metadata": {
    "executionInfo": {
     "elapsed": 2,
     "status": "ok",
     "timestamp": 1739957746341,
     "user": {
      "displayName": "Blanca Lacruz",
      "userId": "12514814890100099567"
     },
     "user_tz": -60
    },
    "id": "MYMe995o1Akw"
   },
   "outputs": [],
   "source": [
    "def get_betw(G):\n",
    "  dc = nx.degree_centrality(G)\n",
    "  clsness = nx.closeness_centrality(G)\n",
    "  btwness_G = nx.betweenness_centrality(G, weight=\"invWeight\")\n",
    "\n",
    "  print('Centrality (mean):', sum(dc.values())/len(dc))\n",
    "  print('Closeness (mean):', sum(clsness.values())/len(clsness))\n",
    "  print('Betweenness (mean):', sum(btwness_G.values())/len(btwness_G))\n",
    "  return(dc, clsness, btwness_G)"
   ]
  },
  {
   "cell_type": "code",
   "execution_count": 170,
   "metadata": {
    "colab": {
     "base_uri": "https://localhost:8080/"
    },
    "executionInfo": {
     "elapsed": 9287,
     "status": "ok",
     "timestamp": 1739957755629,
     "user": {
      "displayName": "Blanca Lacruz",
      "userId": "12514814890100099567"
     },
     "user_tz": -60
    },
    "id": "S9DXruhZ9g2h",
    "outputId": "2c2710fb-6f5e-49ac-eee6-7bf08c17614b"
   },
   "outputs": [
    {
     "name": "stdout",
     "output_type": "stream",
     "text": [
      "MHNO ###########################\n",
      "Centrality (mean): 0.01693562380704493\n",
      "Closeness (mean): 0.25833779826511893\n",
      "Betweenness (mean): 0.008663664449913597\n",
      "MHO ###########################\n",
      "Centrality (mean): 0.019223375624759724\n",
      "Closeness (mean): 0.2466502923744123\n",
      "Betweenness (mean): 0.011196946497393785\n",
      "MUNO ###########################\n",
      "Centrality (mean): 0.013813562406726642\n",
      "Closeness (mean): 0.22244194746343451\n",
      "Betweenness (mean): 0.01105526197070623\n",
      "MUO ###########################\n",
      "Centrality (mean): 0.013386960036276915\n",
      "Closeness (mean): 0.21168131438908902\n",
      "Betweenness (mean): 0.01221801185268056\n"
     ]
    }
   ],
   "source": [
    "print(\"MHNO ###########################\")\n",
    "netdict[\"MHNO\"][\"centrality\"], netdict[\"MHNO\"][\"closeness\"], netdict[\"MHNO\"][\"betweenness\"] = get_betw(MHNO)\n",
    "print(\"MHO ###########################\")\n",
    "netdict[\"MHO\"][\"centrality\"], netdict[\"MHO\"][\"closeness\"], netdict[\"MHO\"][\"betweenness\"] = get_betw(MHO)\n",
    "print(\"MUNO ###########################\")\n",
    "netdict[\"MUNO\"][\"centrality\"], netdict[\"MUNO\"][\"closeness\"], netdict[\"MUNO\"][\"betweenness\"] = get_betw(MUNO)\n",
    "print(\"MUO ###########################\")\n",
    "netdict[\"MUO\"][\"centrality\"], netdict[\"MUO\"][\"closeness\"], netdict[\"MUO\"][\"betweenness\"] = get_betw(MUO)"
   ]
  },
  {
   "cell_type": "code",
   "execution_count": null,
   "metadata": {
    "colab": {
     "base_uri": "https://localhost:8080/"
    },
    "executionInfo": {
     "elapsed": 4930,
     "status": "ok",
     "timestamp": 1739957762878,
     "user": {
      "displayName": "Blanca Lacruz",
      "userId": "12514814890100099567"
     },
     "user_tz": -60
    },
    "id": "yPT-3Cp81ETT",
    "outputId": "40f33e41-88c7-4162-d8f7-b5046eef1a15"
   },
   "outputs": [
    {
     "name": "stdout",
     "output_type": "stream",
     "text": [
      "####  MHO ###################\n",
      "Índice de clusterización: 0.15810433319083853\n",
      "Camino característico: 3.4214858539284863\n",
      "Máximo k con k-core: 4\n",
      "####  MHNO ###################\n",
      "Índice de clusterización: 0.17002110645596438\n",
      "Camino característico: 3.4202406832363903\n",
      "Máximo k con k-core: 5\n",
      "####  MUO ###################\n",
      "Índice de clusterización: 0.1468026779155306\n",
      "Camino característico: 4.305762168063188\n",
      "Máximo k con k-core: 4\n",
      "####  MUNO ###################\n",
      "Índice de clusterización: 0.16204644998246528\n",
      "Camino característico: 4.151702354379257\n",
      "Máximo k con k-core: 5\n"
     ]
    }
   ],
   "source": [
    "names = [\"MHO\", \"MHNO\", \"MUO\", \"MUNO\"]\n",
    "for (i,net) in enumerate([MHO, MHNO, MUO, MUNO]):\n",
    "  print('#### ', names[i], '###################')\n",
    "  print('Average shortest path length:', nx.average_shortest_path_length(net, weight = \"invWeight\"))"
   ]
  },
  {
   "cell_type": "markdown",
   "metadata": {
    "id": "jZPAXlVjY4Ku"
   },
   "source": [
    "# Export dataframes"
   ]
  },
  {
   "cell_type": "code",
   "execution_count": null,
   "metadata": {
    "colab": {
     "base_uri": "https://localhost:8080/"
    },
    "executionInfo": {
     "elapsed": 6130,
     "status": "ok",
     "timestamp": 1739957769017,
     "user": {
      "displayName": "Blanca Lacruz",
      "userId": "12514814890100099567"
     },
     "user_tz": -60
    },
    "id": "ow7vHSORY37v",
    "outputId": "e2b95da9-1a18-4cdd-e85e-942041bf7496"
   },
   "outputs": [
    {
     "name": "stdout",
     "output_type": "stream",
     "text": [
      "Total de nodos:  355\n"
     ]
    }
   ],
   "source": [
    "networks = {\n",
    "    \"MHNO\": MHNO,\n",
    "    \"MHO\": MHO,\n",
    "    \"MUNO\": MUNO,\n",
    "    \"MUO\": MUO\n",
    "}\n",
    "\n",
    "all_nodes = set().union(*[G.nodes() for G in networks.values()])\n",
    "print(\"Node total: \", len(all_nodes))\n",
    "\n",
    "metrics = {}\n",
    "\n",
    "for net_name, G in networks.items():\n",
    "    metrics[nombre_red] = {\n",
    "        \"degree\": dict(G.degree()),\n",
    "        \"betweenness\": nx.betweenness_centrality(G),\n",
    "        \"closeness\": nx.closeness_centrality(G)\n",
    "        }\n",
    "\n",
    "data = []\n",
    "\n",
    "for node in all_nodes:\n",
    "    for net_name in networks.keys():\n",
    "        degree = metrics[net_name][\"degree\"].get(node, None)\n",
    "        betweenness = metrics[net_name][\"betweenness\"].get(node, None)\n",
    "        closeness = metrics[net_name][\"closeness\"].get(node, None)\n",
    "\n",
    "        data.append({\n",
    "            \"node\": node,\n",
    "            \"net\": net_name,\n",
    "            \"degree\": degree,\n",
    "            \"betweenness\": betweenness,\n",
    "            \"closeness\": closeness\n",
    "        })\n",
    "\n",
    "df = pd.DataFrame(data)"
   ]
  },
  {
   "cell_type": "code",
   "execution_count": null,
   "metadata": {
    "executionInfo": {
     "elapsed": 25,
     "status": "ok",
     "timestamp": 1739957769067,
     "user": {
      "displayName": "Blanca Lacruz",
      "userId": "12514814890100099567"
     },
     "user_tz": -60
    },
    "id": "YCg_9riec5GW"
   },
   "outputs": [],
   "source": [
    "df.to_csv(\"../results/network_metrics.csv\")"
   ]
  },
  {
   "cell_type": "code",
   "execution_count": null,
   "metadata": {
    "id": "g5ZzLgzFZfW3"
   },
   "outputs": [],
   "source": [
    "shortest_path_lengths = {}\n",
    "\n",
    "for nombre_red, G in redes.items():\n",
    "    path_lengths = []\n",
    "    for nodo_origen, longitudes in dict(nx.shortest_path_length(G, weight = \"invWeight\")).items():\n",
    "        path_lengths.extend(longitudes.values()) \n",
    "\n",
    "    shortest_path_lengths[nombre_red] = path_lengths"
   ]
  },
  {
   "cell_type": "code",
   "execution_count": null,
   "metadata": {
    "executionInfo": {
     "elapsed": 1390,
     "status": "ok",
     "timestamp": 1739957947321,
     "user": {
      "displayName": "Blanca Lacruz",
      "userId": "12514814890100099567"
     },
     "user_tz": -60
    },
    "id": "WxZ660RLdBIn"
   },
   "outputs": [],
   "source": [
    "with open(\"../results/shortest_paths.json\", \"w\") as f:\n",
    "    json.dump(shortest_path_lengths, f)"
   ]
  },
  {
   "cell_type": "markdown",
   "metadata": {
    "id": "VJK0vi9qJmhs"
   },
   "source": [
    "# K-Cores"
   ]
  },
  {
   "cell_type": "code",
   "execution_count": null,
   "metadata": {
    "id": "_fuzM3Io7g51"
   },
   "outputs": [],
   "source": [
    "cores_MHO = nx.core_number(MHO)\n",
    "cores_MHNO = nx.core_number(MHNO)\n",
    "cores_MUO = nx.core_number(MUO)\n",
    "cores_MUNO = nx.core_number(MUNO)"
   ]
  },
  {
   "cell_type": "code",
   "execution_count": null,
   "metadata": {
    "id": "IvlKsj2NgqyM"
   },
   "outputs": [],
   "source": [
    "df = pd.DataFrame(list(cores_MHO.items()), columns=['Node', 'k-core'])\n",
    "df.to_csv('../results/MHO_kcores.csv', index=False)\n",
    "\n",
    "df = pd.DataFrame(list(cores_MHNO.items()), columns=['Node', 'k-core'])\n",
    "df.to_csv('../results/MHNO_kcores.csv', index=False)\n",
    "\n",
    "df = pd.DataFrame(list(cores_MUO.items()), columns=['Node', 'k-core'])\n",
    "df.to_csv('../results/MUO_kcores.csv', index=False)\n",
    "\n",
    "df = pd.DataFrame(list(cores_MUNO.items()), columns=['Node', 'k-core'])\n",
    "df.to_csv('../results/MUNO_kcores.csv', index=False)"
   ]
  }
 ],
 "metadata": {
  "colab": {
   "authorship_tag": "ABX9TyN70W0BZLdObbdq3Su08ZYH",
   "provenance": [
    {
     "file_id": "1BJEg-Nqc3NbBvGodipdO2eLqBKoeTE_u",
     "timestamp": 1698765587013
    },
    {
     "file_id": "1keIj3St5bE56PB3pwNIk6fTo7Lji1q9k",
     "timestamp": 1685378834703
    },
    {
     "file_id": "1byt3rVGprComw3Cf-kHp7kHvtxNJlsS7",
     "timestamp": 1685101994232
    }
   ]
  },
  "kernelspec": {
   "display_name": "Python 3",
   "name": "python3"
  },
  "language_info": {
   "name": "python"
  }
 },
 "nbformat": 4,
 "nbformat_minor": 0
}
